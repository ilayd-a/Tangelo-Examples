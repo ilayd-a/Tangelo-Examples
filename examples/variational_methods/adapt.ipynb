{
 "cells": [
  {
   "attachments": {},
   "cell_type": "markdown",
   "metadata": {},
   "source": [
    "# ADAPT-VQE\n",
    "\n",
    "ADAPT-VQE was introduced by [Grimsley et al](https://www.nature.com/articles/s41467-019-10988-2) as a solution to the often impracticably deep, and not necessarily accurate, static VQE circuits. In ansatze like UCCSD, one easily reaches the order of thousands of gates, even for modestly sized molecules. In UCCSD and its generalized UCCGSD, the number of fermionic excitations in the ansatz scales like $\\mathcal{O}(N^2M^2)$, and $\\mathcal{O}(N^4)$ respectively. Here $N$ refers to the number of spin-orbitals in the problem basis, and $M$ the number of electrons.\n",
    ".\n",
    "\n",
    "In ADAPT-VQE, an ansatz which approximates not UCCSD/UCCGSD, but in fact FCI, is built iteratively. Over a series of cycles, the ansatz circuit is grown to achieve an approximation to FCI with a minimal number of circuit elements. In this way, ADAPT-VQE can be thought as a meta-VQE: at each cycle, a new ansatz is defined, and its parameters optimized according to conventional VQE. As the cycles proceed, the ansatz grows in both complexity and expressibility. This algorithm comes at the expense of a significant increase in measurement overhead. In order to identify the best operator to append to the present ansatz circuit, a large number of measurements are performed to rank the available operators in order of their ability to further reduce the ansatz state energy.\n",
    "\n",
    "In this notebook, we explore the implementation of this algorithm, available in Tangelo. The original algorithm is examined first, and has shown some success in reducing the number of variational parameters required to express the quantum state. Then, we examine another version of ADAPT-VQE which is successful at reducing the circuit size by using a pool of operators defined from the Qubit Hamiltonian.\n",
    "\n",
    "This notebook assumes that you already have installed Tangelo in your Python environment, or have updated your Python path so that the imports can be resolved. If not, executing the cell below installs the minimal requirements for this notebook."
   ]
  },
  {
   "cell_type": "code",
   "execution_count": 1,
   "metadata": {},
   "outputs": [],
   "source": [
    "# Installation of tangelo if not already installed.\n",
    "try:\n",
    "    import tangelo\n",
    "except ModuleNotFoundError:\n",
    "    !pip install git+https://github.com/goodchemistryco/Tangelo.git@develop --quiet"
   ]
  },
  {
   "cell_type": "markdown",
   "metadata": {},
   "source": [
    "## Original ADAPT-VQE\n",
    "\n",
    "ADAPT-VQE relies on three principal steps.\n",
    "\n",
    "1. Use the UCCGSD pool $\\{P_i\\}$, a set of available operators from which we will iteratively construct the ansatz.\n",
    "2. Rank operators by evaluating the gradient for each operator in the pool $\\frac{\\partial E^{(k)}}{\\partial \\theta_i} = \\langle \\psi_k|[H,P_i]|\\psi_k\\rangle$. Exit if the largest partial derivative is less than some cutoff or max iterations have been reached.\n",
    "3. Append $U_k = \\mathrm{exp}[i\\theta_k P_k]$(index) to the ansatz $U=\\prod_k U_k(\\theta_k)$, and optimize $\\langle H\\rangle$ using VQE.\n",
    "4. Return to step 2.\n",
    "\n",
    "The UCCGSD pool allows for high accuracy with a small number of cycles and consequently very few variational parameters. However, the circuit remains very deep, as each excitation consists of many multi-qubit Pauli rotations. "
   ]
  },
  {
   "cell_type": "markdown",
   "metadata": {},
   "source": [
    "### Running the Adapt-VQE algorithm\n",
    "\n",
    "We define a molecule $H_4$ in this case and use the `AdaptSolver` class to run Adapt-VQE."
   ]
  },
  {
   "cell_type": "code",
   "execution_count": 2,
   "metadata": {},
   "outputs": [
    {
     "data": {
      "text/plain": [
       "-2.0282112841599287"
      ]
     },
     "execution_count": 2,
     "metadata": {},
     "output_type": "execute_result"
    }
   ],
   "source": [
    "from tangelo import SecondQuantizedMolecule\n",
    "from tangelo.algorithms import ADAPTSolver\n",
    "\n",
    "H4 = [(\"H\", (0, 0, 0)), (\"H\", (0, 1.4, 0)), (\"H\", (0, 2.8, 0)), (\"H\", (0, 4.2, 0))]\n",
    "mol = SecondQuantizedMolecule(H4, q=0, spin=0, basis=\"sto-3g\", frozen_orbitals=None)\n",
    "\n",
    "opt_dict = {\"molecule\": mol, \"tol\": 0.01, \"max_cycles\": 7, \"verbose\": False, \"qubit_mapping\": \"jw\"}\n",
    "\n",
    "adapt_solver = ADAPTSolver(opt_dict)\n",
    "adapt_solver.build()\n",
    "adapt_solver.simulate()"
   ]
  },
  {
   "cell_type": "markdown",
   "metadata": {},
   "source": [
    "After 7 cycles, we force the algorithm to terminate. \n",
    "We can now compare the results against the predictions of FCI."
   ]
  },
  {
   "cell_type": "code",
   "execution_count": 3,
   "metadata": {},
   "outputs": [
    {
     "name": "stdout",
     "output_type": "stream",
     "text": [
      "Final Error: 8.5921E-04\n"
     ]
    },
    {
     "data": {
      "image/png": "[encoded data removed]",
      "text/plain": [
       "<Figure size 432x288 with 1 Axes>"
      ]
     },
     "metadata": {
      "needs_background": "light"
     },
     "output_type": "display_data"
    }
   ],
   "source": [
    "import matplotlib.pyplot as plt\n",
    "import numpy as np\n",
    "from tangelo.algorithms import FCISolver\n",
    "\n",
    "fci_solver = FCISolver(mol)\n",
    "exact = fci_solver.simulate()\n",
    "errors = np.array(adapt_solver.energies) - exact\n",
    "fig,ax = plt.subplots(1,1)\n",
    "ax.plot(errors)\n",
    "ax.set_xlabel('ADAPT Iteration')\n",
    "ax.set_ylabel('Error (Ha)')\n",
    "ax.set_title('ADAPT-VQE: H$_4$')\n",
    "ax.set_yscale('log')\n",
    "print(f'Final Error: {errors[-1] :.4E}')"
   ]
  },
  {
   "cell_type": "markdown",
   "metadata": {},
   "source": [
    "Ok, so after 7 cycles, we have an error of 0.9 mHa, within chemical accuracy of FCI. How does this all compare against UCCSD-VQE?"
   ]
  },
  {
   "cell_type": "code",
   "execution_count": 4,
   "metadata": {},
   "outputs": [
    {
     "data": {
      "text/plain": [
       "-2.028138757838466"
      ]
     },
     "execution_count": 4,
     "metadata": {},
     "output_type": "execute_result"
    }
   ],
   "source": [
    "from tangelo.algorithms import VQESolver, BuiltInAnsatze\n",
    "\n",
    "vqe_solver = VQESolver({'molecule': mol, 'ansatz': BuiltInAnsatze.UCCSD})\n",
    "vqe_solver.build()\n",
    "vqe_solver.simulate()"
   ]
  },
  {
   "cell_type": "code",
   "execution_count": 5,
   "metadata": {},
   "outputs": [
    {
     "name": "stdout",
     "output_type": "stream",
     "text": [
      "ADAPT-VQE ERROR: 8.5921E-04 Ha\n",
      "UCCSD-VQE ERROR: 9.3174E-04 Ha\n"
     ]
    }
   ],
   "source": [
    "print(f'ADAPT-VQE ERROR: {adapt_solver.energies[-1] - exact :0.4E} Ha')\n",
    "print(f'UCCSD-VQE ERROR: {vqe_solver.optimal_energy - exact :0.4E} Ha')"
   ]
  },
  {
   "cell_type": "markdown",
   "metadata": {},
   "source": [
    "From the perspective of energy accuracy, the two have reached very similar results. The big advantage here however, are in the resources required for the ADAPT-VQE ansatz circuit:"
   ]
  },
  {
   "cell_type": "code",
   "execution_count": 6,
   "metadata": {},
   "outputs": [
    {
     "name": "stdout",
     "output_type": "stream",
     "text": [
      "ADAPT RESOURCES:\n",
      " {'qubit_hamiltonian_terms': 185, 'circuit_width': 8, 'circuit_depth': 1384, 'circuit_2qubit_gates': 1152, 'circuit_var_gates': 128, 'vqe_variational_parameters': 7}\n",
      "\n",
      "UCCSD RESOURCES:\n",
      " {'qubit_hamiltonian_terms': 185, 'circuit_width': 8, 'circuit_depth': 1702, 'circuit_2qubit_gates': 1312, 'circuit_var_gates': 160, 'vqe_variational_parameters': 14}\n"
     ]
    }
   ],
   "source": [
    "print(f'ADAPT RESOURCES:\\n {adapt_solver.get_resources()}\\n')\n",
    "print(f'UCCSD RESOURCES:\\n {vqe_solver.get_resources()}')"
   ]
  },
  {
   "cell_type": "markdown",
   "metadata": {},
   "source": [
    "We have managed here to reduce the total number of variational parameters by a factor of two while keeping all the gate requirements similar. With ADAPT-VQE, the scaling of the number of parameters that need to be optimized should be better than the $\\mathcal{O}(N^2M^2)$ scaling of UCCSD-VQE. \n",
    "\n",
    "There is another version of ADAPT-VQE which focuses on reducing the circuit depth instead of reducing the number of variational parameters. Although, this version can also reduce the number of variational parameters by truncating the number of cycles, it is not as efficient in the respect as the orignal ADAPT-VQE implementation. This is what we will explore next."
   ]
  },
  {
   "cell_type": "markdown",
   "metadata": {},
   "source": [
    "## Reducing circuit depth with ADAPT-VQE\n",
    "\n",
    "There are two obvious avenues along which one can be creative in the implementation of ADAPT-VQE--these are the selection of the operator pool $\\{P_i\\}$, and the ranking strategy. Above, we have specified that we are using the gradient to perform this ranking procedure. This is the only method which has been used previously, and we will continue to do so here. Regarding the choice of operator pool, the original method used the UCCGSD ansatz to generate the pool, i.e. the single, double fermionic excitations. Subsequent work has focused on qubit-native operators, and we'll follow this strategy as well. As we have shown above, the UCCGSD pool allows for high accuracy with a small number of cycles (and consequently very few variational parameters), but the circuit remains very deep. We will now show how to use a custom Hamiltonian-inspired qubit-pool to generate shorter circuits."
   ]
  },
  {
   "cell_type": "markdown",
   "metadata": {},
   "source": [
    "### Hamiltonian-Inspired Qubit-ADAPT\n",
    "We are going to use the qubit Hamiltonian $H$ to establish a set of pool generators to use in our implementation of ADAPT-VQE. For each term in the Hamiltonian which acts on a distinct combination of qubits, we'll add a pool operator which is guaranteed to have a non-zero commutator with respect to H, and therefore a finite gradient. This will give us a fairly compact set of operators in the pool, all of which are likely to be useful in our ansatz construction. To do this, we will scan through all terms in the qubit Hamiltonian. For each, we will identify the Pauli operators associated with electronic excitation (X and Y gates). We discard Z gates from the Pauli string. If the number of Y gates in a string is even, we can use this to construct an excitation pool element that preserves T-symmetry, by flipping one of the other X gates to a Y, or a Y to an X. Below, we'll flip the first X or Y to its partner."
   ]
  },
  {
   "cell_type": "code",
   "execution_count": 7,
   "metadata": {},
   "outputs": [],
   "source": [
    "def get_pool(qubit_hamiltonian, n_qubits):\n",
    "    \"\"\"Use Hamiltonian to identify non-commuting Pauli strings to use as operator pool.\n",
    "    We identify terms with even number of Y-operators, in order to define excitations \n",
    "    which preserve T-reversal symmetry. We remove all Z operators, and we flip the first\n",
    "    X or Y to its partner (i.e. X <> Y).\n",
    "    Args:\n",
    "        qubit_hamiltonian (QubitOperator): input Hamiltonian\n",
    "        n_qubits (int): number of qubits for Hamiltonian\n",
    "    \n",
    "    Returns:\n",
    "        pool_generators (list of QubitOperator): list of generators\n",
    "    \"\"\"\n",
    "    import numpy as np\n",
    "    from tangelo.toolboxes.operators.operators import QubitOperator\n",
    "\n",
    "    pauli_lookup = {'Z':1, 'X':2, 'Y':3}\n",
    "    pauli_reverse_lookup = ['I', 'Z', 'X', 'Y']\n",
    "    pool_generators, pool_tuples = list(), list()\n",
    "    indices = list()\n",
    "\n",
    "    for term in qubit_hamiltonian.terms:\n",
    "        pauli_string = np.zeros(n_qubits, dtype=int)\n",
    "        \n",
    "        #identify all X or Y factors\n",
    "        for index, action in term:\n",
    "            if pauli_lookup[action] > 1:\n",
    "                pauli_string[index] = pauli_lookup[action]\n",
    "\n",
    "        #only allow one operator acting on a given set of qubits\n",
    "        action_mask = tuple(pauli_string > 1)\n",
    "        if action_mask in indices:\n",
    "            continue\n",
    "\n",
    "        #only consider terms with even number of Y\n",
    "        if sum(pauli_string) % 2 == 0 and sum(pauli_string) > 0:\n",
    "            #identify qubit operator to change X<>Y\n",
    "            flip_index = np.where(pauli_string > 1)[0][0]\n",
    "            pauli_string[flip_index] += (-1)**(pauli_string[flip_index] % 2) \n",
    "\n",
    "            #update set of used qubit combinations\n",
    "            indices.append(action_mask)\n",
    "            #create QubitOperator for the new generator\n",
    "            operator_tuple = tuple([(index,pauli_reverse_lookup[pauli]) for index, pauli in enumerate(pauli_string) if pauli > 0])\n",
    "            #We don't use the coefficients directly, so since we need to multiply by 1.j for evaluating gradients, \n",
    "            #I'm just instantiating these with that coefficient in place\n",
    "            pool_generators.append(QubitOperator(operator_tuple, 1.0j))\n",
    "            pool_tuples.append(operator_tuple)\n",
    "    \n",
    "    return pool_generators"
   ]
  },
  {
   "cell_type": "markdown",
   "metadata": {},
   "source": [
    "To exemplify the generation of an operator pool, we will apply this method to a simple Hamiltonian consisting of a single fermionic excitation and its Hermitian conjugate."
   ]
  },
  {
   "cell_type": "code",
   "execution_count": 8,
   "metadata": {},
   "outputs": [
    {
     "name": "stdout",
     "output_type": "stream",
     "text": [
      "OPERATOR POOL: [1j [Y0 X1 Y2 Y3]]\n"
     ]
    }
   ],
   "source": [
    "from tangelo.toolboxes.operators import QubitOperator\n",
    "qubit_operator = QubitOperator(((0, 'X'), (1, 'X'), (2, 'Y'), (3, 'Y')), -1.0) \\\n",
    "                  + QubitOperator(((0, 'X'), (1, 'Y'), (2, 'Y'), (3, 'X')), 1.0) \\\n",
    "                  + QubitOperator(((0, 'Y'), (1, 'X'), (2, 'X'), (3, 'Y')), 1.0) \\\n",
    "                  + QubitOperator(((0, 'Y'), (1, 'Y'), (2, 'X'), (3, 'X')), -1.0) \n",
    "pool_generators = get_pool(qubit_operator, n_qubits=4)\n",
    "print(f'OPERATOR POOL: {pool_generators}')"
   ]
  },
  {
   "cell_type": "markdown",
   "metadata": {},
   "source": [
    "We have used a qubit Hamiltonian where all operators act on the same qubit indices. This results in just a single generator pool element. As we traverse the `qubit_hamiltonian` in order, the generator corresponds to the first term in the Hamiltonian, with the first X operator switched to a Y operator. So from XXYY, we have YXYY. "
   ]
  },
  {
   "cell_type": "markdown",
   "metadata": {},
   "source": [
    "### Defining the problem\n",
    "For the generator pool we've considered here, the smallest non-trivial problem to consider is $H_4$, as $H_2$ has only one generator and ADAPT terminates at FCI accuracy after a single iteration. So we'll apply the qubit-ADAPT algorithm to the same $H_4$ molecule as we did above with the UCCGSD pool. We obtain the qubit operator using `fermion_to_qubit_mapping` to make use of the pool function defined above."
   ]
  },
  {
   "cell_type": "code",
   "execution_count": 9,
   "metadata": {},
   "outputs": [],
   "source": [
    "from tangelo.toolboxes.qubit_mappings.mapping_transform import fermion_to_qubit_mapping\n",
    "from tangelo.toolboxes.operators import count_qubits\n",
    "\n",
    "fermion_operator = mol._get_fermionic_hamiltonian()\n",
    "qubit_operator = fermion_to_qubit_mapping(fermion_operator, 'jw', mol.n_active_sos, mol.n_electrons)\n",
    "n_qubits = count_qubits(qubit_operator)"
   ]
  },
  {
   "cell_type": "markdown",
   "metadata": {},
   "source": [
    "With the problem defined and the `get_pool` function prepared, we can proceed to initiate the ADAPT-VQE method. This is as simple as defining the problem with a options dictionary and initiating the `ADAPTSolver` class."
   ]
  },
  {
   "cell_type": "code",
   "execution_count": 10,
   "metadata": {},
   "outputs": [
    {
     "data": {
      "text/plain": [
       "-2.0276601175490274"
      ]
     },
     "execution_count": 10,
     "metadata": {},
     "output_type": "execute_result"
    }
   ],
   "source": [
    "from tangelo.algorithms import ADAPTSolver\n",
    "\n",
    "opt_dict = {\"molecule\": mol,\n",
    "            \"pool\": get_pool,\n",
    "            \"pool_args\": {\"qubit_hamiltonian\": qubit_operator, \"n_qubits\": n_qubits},\n",
    "            \"tol\": 0.01,\n",
    "            \"max_cycles\": 12,\n",
    "            \"verbose\": False}\n",
    "\n",
    "adapt_solver = ADAPTSolver(opt_dict)\n",
    "adapt_solver.build()\n",
    "adapt_solver.simulate()"
   ]
  },
  {
   "cell_type": "markdown",
   "metadata": {},
   "source": [
    "After 12 cycles, we force the algorithm to terminate. We can now compare the results against the predictions of FCI."
   ]
  },
  {
   "cell_type": "code",
   "execution_count": 11,
   "metadata": {},
   "outputs": [
    {
     "name": "stdout",
     "output_type": "stream",
     "text": [
      "Final Error: 1.4104E-03\n"
     ]
    },
    {
     "data": {
      "image/png": "[encoded data removed]",
      "text/plain": [
       "<Figure size 432x288 with 1 Axes>"
      ]
     },
     "metadata": {
      "needs_background": "light"
     },
     "output_type": "display_data"
    }
   ],
   "source": [
    "errors = np.array(adapt_solver.energies) - exact\n",
    "fig,ax = plt.subplots(1,1)\n",
    "ax.plot(errors)\n",
    "ax.set_xlabel('ADAPT Iteration')\n",
    "ax.set_ylabel('Error (Ha)')\n",
    "ax.set_title('qubit-ADAPT: H$_4$')\n",
    "ax.set_yscale('log')\n",
    "print(f'Final Error: {errors[-1] :.4E}')"
   ]
  },
  {
   "cell_type": "markdown",
   "metadata": {},
   "source": [
    "Ok so after 12 cycles, we have an error of 1.4 mHa, within chemical accuracy of FCI. How does this all compare against UCCSD-VQE?"
   ]
  },
  {
   "cell_type": "code",
   "execution_count": 12,
   "metadata": {},
   "outputs": [
    {
     "name": "stdout",
     "output_type": "stream",
     "text": [
      "ADAPT-VQE ERROR: 1.4104E-03 Ha\n",
      "UCCSD-VQE ERROR: 9.3174E-04 Ha\n"
     ]
    }
   ],
   "source": [
    "print(f'ADAPT-VQE ERROR: {adapt_solver.energies[-1] - exact :0.4E} Ha')\n",
    "print(f'UCCSD-VQE ERROR: {vqe_solver.optimal_energy - exact :0.4E} Ha')"
   ]
  },
  {
   "cell_type": "markdown",
   "metadata": {},
   "source": [
    "From the perspective of energy accuracy, the two have reached very similar results, within a factor of two. The big advantage here however, are in the resources required for this ansatz circuit:"
   ]
  },
  {
   "cell_type": "code",
   "execution_count": 13,
   "metadata": {},
   "outputs": [
    {
     "name": "stdout",
     "output_type": "stream",
     "text": [
      "ADAPT RESOURCES:\n",
      " {'qubit_hamiltonian_terms': 185, 'circuit_width': 8, 'circuit_depth': 98, 'circuit_2qubit_gates': 72, 'circuit_var_gates': 12, 'vqe_variational_parameters': 12}\n",
      "\n",
      "UCCSD RESOURCES:\n",
      " {'qubit_hamiltonian_terms': 185, 'circuit_width': 8, 'circuit_depth': 1702, 'circuit_2qubit_gates': 1312, 'circuit_var_gates': 160, 'vqe_variational_parameters': 14}\n"
     ]
    }
   ],
   "source": [
    "print(f'ADAPT RESOURCES:\\n {adapt_solver.get_resources()}\\n')\n",
    "print(f'UCCSD RESOURCES:\\n {vqe_solver.get_resources()}')"
   ]
  },
  {
   "cell_type": "markdown",
   "metadata": {},
   "source": [
    "\n",
    "We have managed here to reduce the total number of gates, the number of 2-qubit gates, and the number of variational gates by an order of magnitude. \n",
    "\n",
    "We note that this qubit-ADAPT-VQE has run with 2 fewer variational parameters than UCCSD-VQE. This is much closer to the UCCSD-VQE than the original ADAPT-VQE. Therefore, using these two variants of ADAPT-VQE, we have the opportunity to compromise between optimization complexity and circuit complexity by choosing the operator pool. Both versions will converge to the correct FCI solution given enough cycles, however the original ADAPT-VQE will require more quantum resources while the qubit ADAPT-VQE will require more classical resources. This flexibility in resource requirements is an important advantage for the ADAPT-VQE algorithm over static ansatze.\n",
    "\n",
    "### Restricting Quantum numbers\n",
    "\n",
    "There is one small problem with a qubit inspired ansatz. It does not generally respect the symmetry of the problem. We can now examine the $\\hat{S}^2$, $\\hat{S}_Z$ and the $\\hat{N}$ operators to determine if any loss of symmetry has occured. For this problem, the ground state is a singlet with four electrons so the expected values are $S^2=0$, $S_Z=0$ and $N=4$ respectively."
   ]
  },
  {
   "cell_type": "code",
   "execution_count": 14,
   "metadata": {},
   "outputs": [
    {
     "name": "stdout",
     "output_type": "stream",
     "text": [
      "Adapt quantum numbers errors: N = 0.0001, Sz = 0.0004, S^2 = 0.0015\n",
      "UCCSD quantum numbers errors: N = -0.0000, Sz = -0.0000, S^2 = 0.0000\n"
     ]
    }
   ],
   "source": [
    "exact_s2 = 0\n",
    "exact_sz = 0\n",
    "exact_n = mol.n_active_electrons\n",
    "adapt_s2 = adapt_solver.vqe_solver.operator_expectation('S^2')\n",
    "adapt_sz = adapt_solver.vqe_solver.operator_expectation('Sz')\n",
    "adapt_n = adapt_solver.vqe_solver.operator_expectation('N')\n",
    "uccsd_s2 = vqe_solver.operator_expectation('S^2')\n",
    "uccsd_sz = vqe_solver.operator_expectation('Sz')\n",
    "uccsd_n = vqe_solver.operator_expectation('N')\n",
    "\n",
    "print(f'Adapt quantum numbers errors: N = {adapt_n-exact_n:6.4f}, Sz = {adapt_sz-exact_sz:6.4f}, S^2 = {adapt_s2-exact_s2:6.4f}')\n",
    "print(f'UCCSD quantum numbers errors: N = {uccsd_n-exact_n:6.4f}, Sz = {uccsd_sz-exact_sz:6.4f}, S^2 = {uccsd_s2-exact_s2:6.4f}')"
   ]
  },
  {
   "cell_type": "markdown",
   "metadata": {},
   "source": [
    "As you can see, there are small errors in the desired quantum numbers with qubit-Adapt while UCCSD has the correct expectation values. Therefore, the resulting representation is not exactly what we wanted. To address this problem we can add a penalty term to the qubit hamiltonian and minimize this modified `qubit_hamiltonian` directly using Adapt-VQE instead of the molecular hamiltonian. Generating this new Hamiltonian is as simple as creating a dictionary of `[penalty_weight,  desired_quantum_number]` for each operator and using the `combined_penalty` function. For this example, we choose a `penalty_weight` of 1/2 for each term which is usually a reasonable choice."
   ]
  },
  {
   "cell_type": "code",
   "execution_count": 15,
   "metadata": {},
   "outputs": [
    {
     "data": {
      "text/plain": [
       "-2.0222593086636214"
      ]
     },
     "execution_count": 15,
     "metadata": {},
     "output_type": "execute_result"
    }
   ],
   "source": [
    "from tangelo.toolboxes.ansatz_generator.penalty_terms import combined_penalty\n",
    "from tangelo.toolboxes.operators.operators import qubitop_to_qubitham\n",
    "\n",
    "# Define dictionary of desired quantum numbers [penalty_weight, desired_quantum_number]\n",
    "penalty_weight = 1/2\n",
    "dict_penalty_terms = {'N': [penalty_weight, exact_n],\n",
    "                      'Sz': [penalty_weight, exact_sz],\n",
    "                      'S^2': [penalty_weight, exact_s2]}\n",
    "\n",
    "pen_fermion_operator = combined_penalty(mol.n_active_mos, opt_penalty_terms=dict_penalty_terms)\n",
    "pen_qubit_operator = fermion_to_qubit_mapping(fermion_operator=pen_fermion_operator,\n",
    "                                              mapping='jw',\n",
    "                                              n_spinorbitals=mol.n_active_sos,\n",
    "                                              n_electrons=mol.n_electrons)\n",
    "qubit_operator_with_pen = qubit_operator + pen_qubit_operator\n",
    "opt_dict = {\"qubit_hamiltonian\": qubit_operator_with_pen,\n",
    "            \"n_electrons\": mol.n_electrons,\n",
    "            \"n_spinorbitals\": mol.n_active_sos,\n",
    "            \"spin\": mol.spin,\n",
    "            \"pool\": get_pool,\n",
    "            \"pool_args\": {\"qubit_hamiltonian\": qubit_operator_with_pen, \"n_qubits\": n_qubits},\n",
    "            \"tol\": 0.01,\n",
    "            \"max_cycles\": 12,\n",
    "            \"verbose\": False}\n",
    "\n",
    "adapt_solver_with_pen = ADAPTSolver(opt_dict)\n",
    "adapt_solver_with_pen.build()\n",
    "adapt_solver_with_pen.simulate()"
   ]
  },
  {
   "cell_type": "markdown",
   "metadata": {},
   "source": [
    "We can now check that minimizing this new Hamiltonian resulted in a state with the correct operator expectation values."
   ]
  },
  {
   "cell_type": "code",
   "execution_count": 16,
   "metadata": {},
   "outputs": [
    {
     "name": "stdout",
     "output_type": "stream",
     "text": [
      "ADAPT-VQE ERROR: 6.7615E-03 Ha\n",
      "UCCSD-VQE ERROR: 9.3174E-04 Ha\n",
      "\n",
      "ADAPT RESOURCES:\n",
      " {'qubit_hamiltonian_terms': 695, 'circuit_width': 8, 'circuit_depth': 87, 'circuit_2qubit_gates': 72, 'circuit_var_gates': 12, 'vqe_variational_parameters': 12}\n",
      "UCCSD RESOURCES:\n",
      " {'qubit_hamiltonian_terms': 185, 'circuit_width': 8, 'circuit_depth': 1702, 'circuit_2qubit_gates': 1312, 'circuit_var_gates': 160, 'vqe_variational_parameters': 14}\n",
      "\n",
      "Adapt quantum numbers: N = -0.0000, Sz = 0.0000, S^2 = 0.0000\n",
      "UCCSD quantum numbers: N = -0.0000, Sz = -0.0000, S^2 = 0.0000\n"
     ]
    }
   ],
   "source": [
    "# Since we initialized VQESolver with a QubitHamiltonian, we need to provide the corresponding number of molecular\n",
    "# orbitals to use the built-in operators S^2, Sz and N.\n",
    "adapt_with_pen_s2 = adapt_solver_with_pen.vqe_solver.operator_expectation('S^2', n_active_mos=mol.n_active_mos)\n",
    "adapt_with_pen_sz = adapt_solver_with_pen.vqe_solver.operator_expectation('Sz', n_active_mos=mol.n_active_mos)\n",
    "adapt_with_pen_n = adapt_solver_with_pen.vqe_solver.operator_expectation('N', n_active_mos=mol.n_active_mos)\n",
    "\n",
    "print(f'ADAPT-VQE ERROR: {adapt_solver_with_pen.vqe_solver.operator_expectation(qubit_operator) - exact :0.4E} Ha')\n",
    "print(f'UCCSD-VQE ERROR: {vqe_solver.optimal_energy - exact :0.4E} Ha\\n')\n",
    "print(f'ADAPT RESOURCES:\\n {adapt_solver_with_pen.get_resources()}')\n",
    "print(f'UCCSD RESOURCES:\\n {vqe_solver.get_resources()}\\n')\n",
    "print(f'Adapt quantum numbers: N = {adapt_with_pen_n - exact_n:6.4f}, Sz = {adapt_with_pen_sz - exact_sz:6.4f}, S^2 = {adapt_with_pen_s2 - exact_s2:6.4f}')\n",
    "print(f'UCCSD quantum numbers: N = {uccsd_n - exact_n:6.4f}, Sz = {uccsd_sz - exact_sz:6.4f}, S^2 = {uccsd_s2 - exact_s2:6.4f}')"
   ]
  },
  {
   "cell_type": "markdown",
   "metadata": {},
   "source": [
    "As you can see, we have now found a state that has the correct symmetry properties but the resulting energy is now larger than chemical accuracy. Therefore, more cycles of ADAPT-VQE are needed if chemical accuracy is desired."
   ]
  },
  {
   "cell_type": "markdown",
   "metadata": {},
   "source": [
    "## Conclusion\n",
    "\n",
    "In this notebook, we've explored an implementation of the original ADAPT-VQE algorithm, and the Hamiltonian-inspired qubit variant, using the tools available in Tangelo. It is clear that the number of parameters required for accurate results can be made much smaller with the orignal algorithm, while the qubit version can reduce the circuit depth greatly. The second section illustrates how users can create their own pool of qubit operators through their own `get_pool` function, to explore their own avenues. "
   ]
  }
 ],
 "metadata": {
  "kernelspec": {
   "display_name": "Python 3 (ipykernel)",
   "language": "python",
   "name": "python3"
  },
  "language_info": {
   "codemirror_mode": {
    "name": "ipython",
    "version": 3
   },
   "file_extension": ".py",
   "mimetype": "text/x-python",
   "name": "python",
   "nbconvert_exporter": "python",
   "pygments_lexer": "ipython3",
   "version": "3.10.0"
  },
  "vscode": {
   "interpreter": {
    "hash": "95050af2697fca56ed7491a4fb0b04c1282c0de0a7e0a7cacd318a8297b0b1d8"
   }
  }
 },
 "nbformat": 4,
 "nbformat_minor": 4
}
